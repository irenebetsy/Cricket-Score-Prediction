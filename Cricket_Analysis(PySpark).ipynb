{
 "cells": [
  {
   "cell_type": "markdown",
   "id": "554a22b3",
   "metadata": {},
   "source": [
    "                                   CRICKET ANALYSIS"
   ]
  },
  {
   "cell_type": "code",
   "execution_count": 1,
   "id": "12538e9f",
   "metadata": {
    "scrolled": false
   },
   "outputs": [
    {
     "data": {
      "text/plain": [
       "'C:\\\\spark\\\\spark-3.0.3-bin-hadoop2.7'"
      ]
     },
     "execution_count": 1,
     "metadata": {},
     "output_type": "execute_result"
    }
   ],
   "source": [
    "import findspark\n",
    "findspark.init()\n",
    "findspark.find()\n",
    "import pyspark\n",
    "findspark.find()"
   ]
  },
  {
   "cell_type": "code",
   "execution_count": 2,
   "id": "83606d32",
   "metadata": {
    "colab": {
     "base_uri": "https://localhost:8080/"
    },
    "id": "83606d32",
    "outputId": "504c965f-e5c8-4ced-9b3d-2b6458bf516d",
    "scrolled": false
   },
   "outputs": [],
   "source": [
    "from pyspark import SparkConf,SparkContext\n",
    "from pyspark.sql import SparkSession\n",
    "spark=SparkSession.builder.appName('Betsy').getOrCreate()\n",
    "from pyspark.sql import SQLContext\n",
    "sqlContext = SQLContext(spark)"
   ]
  },
  {
   "cell_type": "code",
   "execution_count": 3,
   "id": "UIfLZYkK8-ri",
   "metadata": {
    "colab": {
     "base_uri": "https://localhost:8080/"
    },
    "id": "UIfLZYkK8-ri",
    "outputId": "c96eda03-7595-406b-af09-71a349200d40",
    "scrolled": false
   },
   "outputs": [
    {
     "name": "stdout",
     "output_type": "stream",
     "text": [
      "root\n",
      " |-- mid: integer (nullable = true)\n",
      " |-- date: string (nullable = true)\n",
      " |-- venue: string (nullable = true)\n",
      " |-- bat_team: string (nullable = true)\n",
      " |-- bowl_team: string (nullable = true)\n",
      " |-- batsman: string (nullable = true)\n",
      " |-- bowler: string (nullable = true)\n",
      " |-- runs: integer (nullable = true)\n",
      " |-- wickets: integer (nullable = true)\n",
      " |-- overs: double (nullable = true)\n",
      " |-- runs_last_5: integer (nullable = true)\n",
      " |-- wickets_last_5: integer (nullable = true)\n",
      " |-- striker: integer (nullable = true)\n",
      " |-- non-striker: integer (nullable = true)\n",
      " |-- total: integer (nullable = true)\n",
      "\n"
     ]
    }
   ],
   "source": [
    "my_data=spark.read.csv('ipl.csv',inferSchema=True,header=True)\n",
    "my_data.printSchema()"
   ]
  },
  {
   "cell_type": "code",
   "execution_count": 4,
   "id": "4yJOL8b09cYQ",
   "metadata": {
    "colab": {
     "base_uri": "https://localhost:8080/"
    },
    "id": "4yJOL8b09cYQ",
    "outputId": "7f983ba0-9500-4a6d-babd-f4979a848428",
    "scrolled": false
   },
   "outputs": [
    {
     "name": "stdout",
     "output_type": "stream",
     "text": [
      "+---+----------+--------------------+--------------------+--------------------+-----------+---------+----+-------+-----+-----------+--------------+-------+-----------+-----+\n",
      "|mid|      date|               venue|            bat_team|           bowl_team|    batsman|   bowler|runs|wickets|overs|runs_last_5|wickets_last_5|striker|non-striker|total|\n",
      "+---+----------+--------------------+--------------------+--------------------+-----------+---------+----+-------+-----+-----------+--------------+-------+-----------+-----+\n",
      "|  1|2008-04-18|M Chinnaswamy Sta...|Kolkata Knight Ri...|Royal Challengers...| SC Ganguly|  P Kumar|   1|      0|  0.1|          1|             0|      0|          0|  222|\n",
      "|  1|2008-04-18|M Chinnaswamy Sta...|Kolkata Knight Ri...|Royal Challengers...|BB McCullum|  P Kumar|   1|      0|  0.2|          1|             0|      0|          0|  222|\n",
      "|  1|2008-04-18|M Chinnaswamy Sta...|Kolkata Knight Ri...|Royal Challengers...|BB McCullum|  P Kumar|   2|      0|  0.2|          2|             0|      0|          0|  222|\n",
      "|  1|2008-04-18|M Chinnaswamy Sta...|Kolkata Knight Ri...|Royal Challengers...|BB McCullum|  P Kumar|   2|      0|  0.3|          2|             0|      0|          0|  222|\n",
      "|  1|2008-04-18|M Chinnaswamy Sta...|Kolkata Knight Ri...|Royal Challengers...|BB McCullum|  P Kumar|   2|      0|  0.4|          2|             0|      0|          0|  222|\n",
      "|  1|2008-04-18|M Chinnaswamy Sta...|Kolkata Knight Ri...|Royal Challengers...|BB McCullum|  P Kumar|   2|      0|  0.5|          2|             0|      0|          0|  222|\n",
      "|  1|2008-04-18|M Chinnaswamy Sta...|Kolkata Knight Ri...|Royal Challengers...|BB McCullum|  P Kumar|   3|      0|  0.6|          3|             0|      0|          0|  222|\n",
      "|  1|2008-04-18|M Chinnaswamy Sta...|Kolkata Knight Ri...|Royal Challengers...|BB McCullum|   Z Khan|   3|      0|  1.1|          3|             0|      0|          0|  222|\n",
      "|  1|2008-04-18|M Chinnaswamy Sta...|Kolkata Knight Ri...|Royal Challengers...|BB McCullum|   Z Khan|   7|      0|  1.2|          7|             0|      4|          0|  222|\n",
      "|  1|2008-04-18|M Chinnaswamy Sta...|Kolkata Knight Ri...|Royal Challengers...|BB McCullum|   Z Khan|  11|      0|  1.3|         11|             0|      8|          0|  222|\n",
      "|  1|2008-04-18|M Chinnaswamy Sta...|Kolkata Knight Ri...|Royal Challengers...|BB McCullum|   Z Khan|  17|      0|  1.4|         17|             0|     14|          0|  222|\n",
      "|  1|2008-04-18|M Chinnaswamy Sta...|Kolkata Knight Ri...|Royal Challengers...|BB McCullum|   Z Khan|  21|      0|  1.5|         21|             0|     18|          0|  222|\n",
      "|  1|2008-04-18|M Chinnaswamy Sta...|Kolkata Knight Ri...|Royal Challengers...|BB McCullum|   Z Khan|  21|      0|  1.6|         21|             0|     18|          0|  222|\n",
      "|  1|2008-04-18|M Chinnaswamy Sta...|Kolkata Knight Ri...|Royal Challengers...| SC Ganguly|  P Kumar|  21|      0|  2.1|         21|             0|     18|          0|  222|\n",
      "|  1|2008-04-18|M Chinnaswamy Sta...|Kolkata Knight Ri...|Royal Challengers...| SC Ganguly|  P Kumar|  21|      0|  2.2|         21|             0|     18|          0|  222|\n",
      "|  1|2008-04-18|M Chinnaswamy Sta...|Kolkata Knight Ri...|Royal Challengers...| SC Ganguly|  P Kumar|  22|      0|  2.3|         22|             0|     18|          0|  222|\n",
      "|  1|2008-04-18|M Chinnaswamy Sta...|Kolkata Knight Ri...|Royal Challengers...|BB McCullum|  P Kumar|  26|      0|  2.4|         26|             0|     22|          0|  222|\n",
      "|  1|2008-04-18|M Chinnaswamy Sta...|Kolkata Knight Ri...|Royal Challengers...|BB McCullum|  P Kumar|  27|      0|  2.5|         27|             0|     23|          0|  222|\n",
      "|  1|2008-04-18|M Chinnaswamy Sta...|Kolkata Knight Ri...|Royal Challengers...| SC Ganguly|  P Kumar|  27|      0|  2.6|         27|             0|     23|          0|  222|\n",
      "|  1|2008-04-18|M Chinnaswamy Sta...|Kolkata Knight Ri...|Royal Challengers...|BB McCullum|AA Noffke|  32|      0|  3.0|         32|             0|     23|          0|  222|\n",
      "+---+----------+--------------------+--------------------+--------------------+-----------+---------+----+-------+-----+-----------+--------------+-------+-----------+-----+\n",
      "only showing top 20 rows\n",
      "\n"
     ]
    }
   ],
   "source": [
    "my_data.show()"
   ]
  },
  {
   "cell_type": "code",
   "execution_count": 5,
   "id": "qK5jYQnTgRRi",
   "metadata": {
    "colab": {
     "base_uri": "https://localhost:8080/"
    },
    "id": "qK5jYQnTgRRi",
    "outputId": "f47f9690-a401-4057-a526-9bc2b2b5e340",
    "scrolled": false
   },
   "outputs": [
    {
     "data": {
      "text/plain": [
       "['mid',\n",
       " 'date',\n",
       " 'venue',\n",
       " 'bat_team',\n",
       " 'bowl_team',\n",
       " 'batsman',\n",
       " 'bowler',\n",
       " 'runs',\n",
       " 'wickets',\n",
       " 'overs',\n",
       " 'runs_last_5',\n",
       " 'wickets_last_5',\n",
       " 'striker',\n",
       " 'non-striker',\n",
       " 'total']"
      ]
     },
     "execution_count": 5,
     "metadata": {},
     "output_type": "execute_result"
    }
   ],
   "source": [
    "my_data.columns"
   ]
  },
  {
   "cell_type": "code",
   "execution_count": 6,
   "id": "-L7b2dYxgRO3",
   "metadata": {
    "colab": {
     "base_uri": "https://localhost:8080/"
    },
    "id": "-L7b2dYxgRO3",
    "outputId": "96b97a3e-ba0b-4caa-b0b4-bd257b16226f",
    "scrolled": false
   },
   "outputs": [
    {
     "data": {
      "text/plain": [
       "76014"
      ]
     },
     "execution_count": 6,
     "metadata": {},
     "output_type": "execute_result"
    }
   ],
   "source": [
    "#no: of rows or records\n",
    "my_data.count()"
   ]
  },
  {
   "cell_type": "code",
   "execution_count": 7,
   "id": "XJ0-rPuDgRLX",
   "metadata": {
    "colab": {
     "base_uri": "https://localhost:8080/"
    },
    "id": "XJ0-rPuDgRLX",
    "outputId": "5f43966d-275c-4daf-c2f0-4505a9ab8a1a",
    "scrolled": false
   },
   "outputs": [
    {
     "data": {
      "text/plain": [
       "15"
      ]
     },
     "execution_count": 7,
     "metadata": {},
     "output_type": "execute_result"
    }
   ],
   "source": [
    "len(my_data.columns)"
   ]
  },
  {
   "cell_type": "code",
   "execution_count": 8,
   "id": "PpsoWMCcgmpf",
   "metadata": {
    "colab": {
     "base_uri": "https://localhost:8080/"
    },
    "id": "PpsoWMCcgmpf",
    "outputId": "8ab1e8e2-9527-49bf-a3ec-030d494b5dc8",
    "scrolled": false
   },
   "outputs": [
    {
     "name": "stdout",
     "output_type": "stream",
     "text": [
      "+-------+-----------------+\n",
      "|summary|            overs|\n",
      "+-------+-----------------+\n",
      "|  count|            76014|\n",
      "|   mean|9.783067592811642|\n",
      "| stddev|5.772586873852114|\n",
      "|    min|              0.0|\n",
      "|    max|             19.6|\n",
      "+-------+-----------------+\n",
      "\n"
     ]
    }
   ],
   "source": [
    "my_data.describe('overs').show()"
   ]
  },
  {
   "cell_type": "code",
   "execution_count": 9,
   "id": "HP3SrQDbgtaP",
   "metadata": {
    "colab": {
     "base_uri": "https://localhost:8080/"
    },
    "id": "HP3SrQDbgtaP",
    "outputId": "078a5aae-a621-4812-e1f6-6ca1f2577ffe",
    "scrolled": false
   },
   "outputs": [
    {
     "name": "stdout",
     "output_type": "stream",
     "text": [
      "+-----------+---------+-----+----+\n",
      "|    batsman|   bowler|overs|runs|\n",
      "+-----------+---------+-----+----+\n",
      "| SC Ganguly|  P Kumar|  0.1|   1|\n",
      "|BB McCullum|  P Kumar|  0.2|   1|\n",
      "|BB McCullum|  P Kumar|  0.2|   2|\n",
      "|BB McCullum|  P Kumar|  0.3|   2|\n",
      "|BB McCullum|  P Kumar|  0.4|   2|\n",
      "|BB McCullum|  P Kumar|  0.5|   2|\n",
      "|BB McCullum|  P Kumar|  0.6|   3|\n",
      "|BB McCullum|   Z Khan|  1.1|   3|\n",
      "|BB McCullum|   Z Khan|  1.2|   7|\n",
      "|BB McCullum|   Z Khan|  1.3|  11|\n",
      "|BB McCullum|   Z Khan|  1.4|  17|\n",
      "|BB McCullum|   Z Khan|  1.5|  21|\n",
      "|BB McCullum|   Z Khan|  1.6|  21|\n",
      "| SC Ganguly|  P Kumar|  2.1|  21|\n",
      "| SC Ganguly|  P Kumar|  2.2|  21|\n",
      "| SC Ganguly|  P Kumar|  2.3|  22|\n",
      "|BB McCullum|  P Kumar|  2.4|  26|\n",
      "|BB McCullum|  P Kumar|  2.5|  27|\n",
      "| SC Ganguly|  P Kumar|  2.6|  27|\n",
      "|BB McCullum|AA Noffke|  3.0|  32|\n",
      "+-----------+---------+-----+----+\n",
      "only showing top 20 rows\n",
      "\n"
     ]
    }
   ],
   "source": [
    "my_data.select('batsman','bowler','overs','runs').show()"
   ]
  },
  {
   "cell_type": "code",
   "execution_count": 10,
   "id": "IEq8rxpTg5iF",
   "metadata": {
    "colab": {
     "base_uri": "https://localhost:8080/"
    },
    "id": "IEq8rxpTg5iF",
    "outputId": "e4c5f6d9-6874-4623-aa60-f7915ed3b37a",
    "scrolled": false
   },
   "outputs": [
    {
     "name": "stdout",
     "output_type": "stream",
     "text": [
      "+---+----------+--------------------+---------------+----------------+-------------+---------+----+-------+-----+-----------+--------------+-------+-----------+-----+\n",
      "|mid|      date|               venue|       bat_team|       bowl_team|      batsman|   bowler|runs|wickets|overs|runs_last_5|wickets_last_5|striker|non-striker|total|\n",
      "+---+----------+--------------------+---------------+----------------+-------------+---------+----+-------+-----+-----------+--------------+-------+-----------+-----+\n",
      "|  6|2008-04-21|Sawai Mansingh St...|Kings XI Punjab|Rajasthan Royals|       K Goel|SR Watson|   6|      0|  1.5|          6|             0|      6|          0|  166|\n",
      "|  6|2008-04-21|Sawai Mansingh St...|Kings XI Punjab|Rajasthan Royals|     JR Hopes|SR Watson|   6|      0|  1.6|          6|             0|      6|          0|  166|\n",
      "| 13|2008-04-27|Dr DY Patil Sport...| Mumbai Indians| Deccan Chargers|ST Jayasuriya| RP Singh|   6|      0|  0.4|          6|             0|      5|          0|  154|\n",
      "| 13|2008-04-27|Dr DY Patil Sport...| Mumbai Indians| Deccan Chargers|ST Jayasuriya| RP Singh|   6|      0|  0.5|          6|             0|      5|          0|  154|\n",
      "| 13|2008-04-27|Dr DY Patil Sport...| Mumbai Indians| Deccan Chargers|ST Jayasuriya| RP Singh|   6|      0|  0.6|          6|             0|      5|          0|  154|\n",
      "+---+----------+--------------------+---------------+----------------+-------------+---------+----+-------+-----+-----------+--------------+-------+-----------+-----+\n",
      "only showing top 5 rows\n",
      "\n"
     ]
    }
   ],
   "source": [
    "my_filter=my_data.filter(my_data.runs=='6').show(5)"
   ]
  },
  {
   "cell_type": "code",
   "execution_count": 11,
   "id": "7VuNDAysiKh_",
   "metadata": {
    "colab": {
     "base_uri": "https://localhost:8080/"
    },
    "id": "7VuNDAysiKh_",
    "outputId": "c068d467-def7-453a-d7d1-da144b4da2f0",
    "scrolled": false
   },
   "outputs": [
    {
     "data": {
      "text/plain": [
       "['date',\n",
       " 'bat_team',\n",
       " 'bowl_team',\n",
       " 'batsman',\n",
       " 'bowler',\n",
       " 'runs',\n",
       " 'wickets',\n",
       " 'overs',\n",
       " 'runs_last_5',\n",
       " 'wickets_last_5',\n",
       " 'striker',\n",
       " 'non-striker',\n",
       " 'total']"
      ]
     },
     "execution_count": 11,
     "metadata": {},
     "output_type": "execute_result"
    }
   ],
   "source": [
    "# drop the columns that are not required\n",
    "my_data = my_data.drop(*['venue', 'mid'])\n",
    "my_data.columns"
   ]
  },
  {
   "cell_type": "markdown",
   "id": "mynRsLBciv7e",
   "metadata": {
    "id": "mynRsLBciv7e"
   },
   "source": [
    "# ***Using pyspark for Data Exploration***"
   ]
  },
  {
   "cell_type": "code",
   "execution_count": 12,
   "id": "1fa92c8c",
   "metadata": {
    "scrolled": true
   },
   "outputs": [
    {
     "name": "stdout",
     "output_type": "stream",
     "text": [
      "+----------+--------------------+--------------------+-----------+-------+----+-------+-----+-----------+--------------+-------+-----------+-----+\n",
      "|      date|            bat_team|           bowl_team|    batsman| bowler|runs|wickets|overs|runs_last_5|wickets_last_5|striker|non-striker|total|\n",
      "+----------+--------------------+--------------------+-----------+-------+----+-------+-----+-----------+--------------+-------+-----------+-----+\n",
      "|2008-04-18|Kolkata Knight Ri...|Royal Challengers...| SC Ganguly|P Kumar|   1|      0|  0.1|          1|             0|      0|          0|  222|\n",
      "|2008-04-18|Kolkata Knight Ri...|Royal Challengers...|BB McCullum|P Kumar|   1|      0|  0.2|          1|             0|      0|          0|  222|\n",
      "|2008-04-18|Kolkata Knight Ri...|Royal Challengers...|BB McCullum|P Kumar|   2|      0|  0.2|          2|             0|      0|          0|  222|\n",
      "|2008-04-18|Kolkata Knight Ri...|Royal Challengers...|BB McCullum|P Kumar|   2|      0|  0.3|          2|             0|      0|          0|  222|\n",
      "|2008-04-18|Kolkata Knight Ri...|Royal Challengers...|BB McCullum|P Kumar|   2|      0|  0.4|          2|             0|      0|          0|  222|\n",
      "+----------+--------------------+--------------------+-----------+-------+----+-------+-----+-----------+--------------+-------+-----------+-----+\n",
      "only showing top 5 rows\n",
      "\n"
     ]
    }
   ],
   "source": [
    "my_data.show(5)"
   ]
  },
  {
   "cell_type": "code",
   "execution_count": 13,
   "id": "g4kXlfvYiKfp",
   "metadata": {
    "colab": {
     "base_uri": "https://localhost:8080/"
    },
    "id": "g4kXlfvYiKfp",
    "outputId": "48a63628-da90-4c26-d19e-ca33e79c0dab",
    "scrolled": false
   },
   "outputs": [
    {
     "data": {
      "text/plain": [
       "(76014, 13)"
      ]
     },
     "execution_count": 13,
     "metadata": {},
     "output_type": "execute_result"
    }
   ],
   "source": [
    "(my_data.count() , len(my_data.columns))"
   ]
  },
  {
   "cell_type": "code",
   "execution_count": 14,
   "id": "SpGdxu0OiKcR",
   "metadata": {
    "colab": {
     "base_uri": "https://localhost:8080/"
    },
    "id": "SpGdxu0OiKcR",
    "outputId": "f8ca2a8d-fd0e-460b-f08d-a1eda0599acb",
    "scrolled": false
   },
   "outputs": [
    {
     "name": "stdout",
     "output_type": "stream",
     "text": [
      "+----+--------+---------+-------+------+----+-------+-----+-----------+--------------+-------+-----------+-----+\n",
      "|date|bat_team|bowl_team|batsman|bowler|runs|wickets|overs|runs_last_5|wickets_last_5|striker|non-striker|total|\n",
      "+----+--------+---------+-------+------+----+-------+-----+-----------+--------------+-------+-----------+-----+\n",
      "|   0|       0|        0|      0|     0|   0|      0|    0|          0|             0|      0|          0|    0|\n",
      "+----+--------+---------+-------+------+----+-------+-----+-----------+--------------+-------+-----------+-----+\n",
      "\n"
     ]
    }
   ],
   "source": [
    "import pyspark.sql.functions as f\n",
    "# null values in each column\n",
    "data_agg = my_data.agg(*[f.count(f.when(f.isnull(c), c)).alias(c) for c in my_data.columns])\n",
    "data_agg.show()"
   ]
  },
  {
   "cell_type": "code",
   "execution_count": 15,
   "id": "bTDVofl_iKZp",
   "metadata": {
    "colab": {
     "base_uri": "https://localhost:8080/"
    },
    "id": "bTDVofl_iKZp",
    "outputId": "2a465bf1-c6c7-4194-8053-c29e83191aa6",
    "scrolled": false
   },
   "outputs": [
    {
     "name": "stdout",
     "output_type": "stream",
     "text": [
      "+---------------+-----+\n",
      "|        batsman|count|\n",
      "+---------------+-----+\n",
      "|     S Anirudha|   99|\n",
      "|     TM Dilshan|  524|\n",
      "|  Kuldeep Yadav|    7|\n",
      "| M Muralitharan|   18|\n",
      "|  LA Carseldine|   17|\n",
      "|        J Botha|  131|\n",
      "|     KA Pollard|  919|\n",
      "|       DR Smith|  914|\n",
      "| Jaskaran Singh|    3|\n",
      "|     A Flintoff|   14|\n",
      "|       M Manhas|  201|\n",
      "|      GR Napier|   16|\n",
      "|          B Lee|   53|\n",
      "|     D du Preez|   13|\n",
      "|       A Mukund|   22|\n",
      "|    BMAJ Mendis|    9|\n",
      "|       SA Yadav|  194|\n",
      "|       AR Patel|  257|\n",
      "|NM Coulter-Nile|   36|\n",
      "|Mohammad Hafeez|   53|\n",
      "+---------------+-----+\n",
      "only showing top 20 rows\n",
      "\n"
     ]
    }
   ],
   "source": [
    "# value counts of Batsman_Name column\n",
    "my_data.groupBy('batsman').count().show()"
   ]
  },
  {
   "cell_type": "code",
   "execution_count": 16,
   "id": "8365b917",
   "metadata": {},
   "outputs": [
    {
     "data": {
      "text/plain": [
       "[('date', 'string'),\n",
       " ('bat_team', 'string'),\n",
       " ('bowl_team', 'string'),\n",
       " ('batsman', 'string'),\n",
       " ('bowler', 'string'),\n",
       " ('runs', 'int'),\n",
       " ('wickets', 'int'),\n",
       " ('overs', 'double'),\n",
       " ('runs_last_5', 'int'),\n",
       " ('wickets_last_5', 'int'),\n",
       " ('striker', 'int'),\n",
       " ('non-striker', 'int'),\n",
       " ('total', 'int')]"
      ]
     },
     "execution_count": 16,
     "metadata": {},
     "output_type": "execute_result"
    }
   ],
   "source": [
    "my_data.dtypes"
   ]
  },
  {
   "cell_type": "markdown",
   "id": "XcGozYLhkljd",
   "metadata": {
    "id": "XcGozYLhkljd"
   },
   "source": [
    "# ***Encode Categorical Variables using PySpark***"
   ]
  },
  {
   "cell_type": "code",
   "execution_count": 17,
   "id": "25fe7a3a",
   "metadata": {},
   "outputs": [
    {
     "name": "stdout",
     "output_type": "stream",
     "text": [
      "+----------+--------------------+--------------------+-----------+-------+----+-------+-----+-----------+--------------+-------+-----------+-----+\n",
      "|      date|            bat_team|           bowl_team|    batsman| bowler|runs|wickets|overs|runs_last_5|wickets_last_5|striker|non-striker|total|\n",
      "+----------+--------------------+--------------------+-----------+-------+----+-------+-----+-----------+--------------+-------+-----------+-----+\n",
      "|2008-04-18|Kolkata Knight Ri...|Royal Challengers...| SC Ganguly|P Kumar|   1|      0|  0.1|          1|             0|      0|          0|  222|\n",
      "|2008-04-18|Kolkata Knight Ri...|Royal Challengers...|BB McCullum|P Kumar|   1|      0|  0.2|          1|             0|      0|          0|  222|\n",
      "|2008-04-18|Kolkata Knight Ri...|Royal Challengers...|BB McCullum|P Kumar|   2|      0|  0.2|          2|             0|      0|          0|  222|\n",
      "|2008-04-18|Kolkata Knight Ri...|Royal Challengers...|BB McCullum|P Kumar|   2|      0|  0.3|          2|             0|      0|          0|  222|\n",
      "|2008-04-18|Kolkata Knight Ri...|Royal Challengers...|BB McCullum|P Kumar|   2|      0|  0.4|          2|             0|      0|          0|  222|\n",
      "+----------+--------------------+--------------------+-----------+-------+----+-------+-----+-----------+--------------+-------+-----------+-----+\n",
      "only showing top 5 rows\n",
      "\n"
     ]
    }
   ],
   "source": [
    "my_data.show(5)"
   ]
  },
  {
   "cell_type": "code",
   "execution_count": 18,
   "id": "wM0ov9gpiKNb",
   "metadata": {
    "id": "wM0ov9gpiKNb",
    "scrolled": false
   },
   "outputs": [],
   "source": [
    "from pyspark.ml.feature import StringIndexer\n",
    "batteam_indexer=StringIndexer(inputCol=\"bat_team\",outputCol=\"bat_team_new\")\n",
    "bowlteam_indexer=StringIndexer(inputCol=\"bowl_team\",outputCol=\"bowl_team_new\")\n",
    "bat_indexer=StringIndexer(inputCol=\"batsman\",outputCol=\"batsman_new\")\n",
    "bowl_indexer=StringIndexer(inputCol=\"bowler\",outputCol=\"bowler_new\")\n",
    "my_data = batteam_indexer.fit(my_data).transform(my_data)\n",
    "my_data = bowlteam_indexer.fit(my_data).transform(my_data)\n",
    "my_data = bat_indexer.fit(my_data).transform(my_data)\n",
    "my_data = bowl_indexer.fit(my_data).transform(my_data)"
   ]
  },
  {
   "cell_type": "code",
   "execution_count": 19,
   "id": "5gFO1ZAjiKJ3",
   "metadata": {
    "id": "5gFO1ZAjiKJ3",
    "scrolled": false
   },
   "outputs": [
    {
     "name": "stdout",
     "output_type": "stream",
     "text": [
      "+--------------------+------------+--------------------+-------------+-----------+-----------+-------+----------+\n",
      "|            bat_team|bat_team_new|           bowl_team|bowl_team_new|    batsman|batsman_new| bowler|bowler_new|\n",
      "+--------------------+------------+--------------------+-------------+-----------+-----------+-------+----------+\n",
      "|Kolkata Knight Ri...|         4.0|Royal Challengers...|          1.0| SC Ganguly|       34.0|P Kumar|       2.0|\n",
      "|Kolkata Knight Ri...|         4.0|Royal Challengers...|          1.0|BB McCullum|       11.0|P Kumar|       2.0|\n",
      "|Kolkata Knight Ri...|         4.0|Royal Challengers...|          1.0|BB McCullum|       11.0|P Kumar|       2.0|\n",
      "|Kolkata Knight Ri...|         4.0|Royal Challengers...|          1.0|BB McCullum|       11.0|P Kumar|       2.0|\n",
      "|Kolkata Knight Ri...|         4.0|Royal Challengers...|          1.0|BB McCullum|       11.0|P Kumar|       2.0|\n",
      "|Kolkata Knight Ri...|         4.0|Royal Challengers...|          1.0|BB McCullum|       11.0|P Kumar|       2.0|\n",
      "|Kolkata Knight Ri...|         4.0|Royal Challengers...|          1.0|BB McCullum|       11.0|P Kumar|       2.0|\n",
      "|Kolkata Knight Ri...|         4.0|Royal Challengers...|          1.0|BB McCullum|       11.0| Z Khan|       5.0|\n",
      "|Kolkata Knight Ri...|         4.0|Royal Challengers...|          1.0|BB McCullum|       11.0| Z Khan|       5.0|\n",
      "|Kolkata Knight Ri...|         4.0|Royal Challengers...|          1.0|BB McCullum|       11.0| Z Khan|       5.0|\n",
      "+--------------------+------------+--------------------+-------------+-----------+-----------+-------+----------+\n",
      "only showing top 10 rows\n",
      "\n"
     ]
    }
   ],
   "source": [
    "my_data.select('bat_team', 'bat_team_new', 'bowl_team', 'bowl_team_new','batsman','batsman_new','bowler','bowler_new').show(10)"
   ]
  },
  {
   "cell_type": "code",
   "execution_count": 20,
   "id": "i-hZ2IRMiKD3",
   "metadata": {
    "id": "i-hZ2IRMiKD3",
    "scrolled": false
   },
   "outputs": [
    {
     "name": "stdout",
     "output_type": "stream",
     "text": [
      "+------------+-------------+-----------+----------+\n",
      "|bat_team_new|bowl_team_new|batsman_new|bowler_new|\n",
      "+------------+-------------+-----------+----------+\n",
      "|         4.0|          1.0|       34.0|       2.0|\n",
      "|         4.0|          1.0|       11.0|       2.0|\n",
      "|         4.0|          1.0|       11.0|       2.0|\n",
      "|         4.0|          1.0|       11.0|       2.0|\n",
      "|         4.0|          1.0|       11.0|       2.0|\n",
      "|         4.0|          1.0|       11.0|       2.0|\n",
      "|         4.0|          1.0|       11.0|       2.0|\n",
      "|         4.0|          1.0|       11.0|       5.0|\n",
      "|         4.0|          1.0|       11.0|       5.0|\n",
      "|         4.0|          1.0|       11.0|       5.0|\n",
      "+------------+-------------+-----------+----------+\n",
      "only showing top 10 rows\n",
      "\n"
     ]
    }
   ],
   "source": [
    "from pyspark.ml.feature import OneHotEncoder\n",
    "ohe = OneHotEncoder(inputCols=['bat_team_new', 'bowl_team_new','batsman_new','bowler_new'],outputCols=['batteam_ohe', 'bowlteam_ohe','batsman_ohe','bowler_ohe'])\n",
    "my_data = ohe.fit(my_data).transform(my_data)\n",
    "my_data.select('bat_team_new', 'bowl_team_new','batsman_new','bowler_new').show(10)"
   ]
  },
  {
   "cell_type": "code",
   "execution_count": 21,
   "id": "98be65bf",
   "metadata": {},
   "outputs": [
    {
     "name": "stdout",
     "output_type": "stream",
     "text": [
      "+----------+--------------------+--------------------+-----------+---------+----+-------+-----+-----------+--------------+-------+-----------+-----+------------+-------------+-----------+----------+--------------+--------------+----------------+-----------------+\n",
      "|      date|            bat_team|           bowl_team|    batsman|   bowler|runs|wickets|overs|runs_last_5|wickets_last_5|striker|non-striker|total|bat_team_new|bowl_team_new|batsman_new|bowler_new|   batteam_ohe|  bowlteam_ohe|     batsman_ohe|       bowler_ohe|\n",
      "+----------+--------------------+--------------------+-----------+---------+----+-------+-----+-----------+--------------+-------+-----------+-----+------------+-------------+-----------+----------+--------------+--------------+----------------+-----------------+\n",
      "|2008-04-18|Kolkata Knight Ri...|Royal Challengers...| SC Ganguly|  P Kumar|   1|      0|  0.1|          1|             0|      0|          0|  222|         4.0|          1.0|       34.0|       2.0|(13,[4],[1.0])|(13,[1],[1.0])|(410,[34],[1.0])|  (328,[2],[1.0])|\n",
      "|2008-04-18|Kolkata Knight Ri...|Royal Challengers...|BB McCullum|  P Kumar|   1|      0|  0.2|          1|             0|      0|          0|  222|         4.0|          1.0|       11.0|       2.0|(13,[4],[1.0])|(13,[1],[1.0])|(410,[11],[1.0])|  (328,[2],[1.0])|\n",
      "|2008-04-18|Kolkata Knight Ri...|Royal Challengers...|BB McCullum|  P Kumar|   2|      0|  0.2|          2|             0|      0|          0|  222|         4.0|          1.0|       11.0|       2.0|(13,[4],[1.0])|(13,[1],[1.0])|(410,[11],[1.0])|  (328,[2],[1.0])|\n",
      "|2008-04-18|Kolkata Knight Ri...|Royal Challengers...|BB McCullum|  P Kumar|   2|      0|  0.3|          2|             0|      0|          0|  222|         4.0|          1.0|       11.0|       2.0|(13,[4],[1.0])|(13,[1],[1.0])|(410,[11],[1.0])|  (328,[2],[1.0])|\n",
      "|2008-04-18|Kolkata Knight Ri...|Royal Challengers...|BB McCullum|  P Kumar|   2|      0|  0.4|          2|             0|      0|          0|  222|         4.0|          1.0|       11.0|       2.0|(13,[4],[1.0])|(13,[1],[1.0])|(410,[11],[1.0])|  (328,[2],[1.0])|\n",
      "|2008-04-18|Kolkata Knight Ri...|Royal Challengers...|BB McCullum|  P Kumar|   2|      0|  0.5|          2|             0|      0|          0|  222|         4.0|          1.0|       11.0|       2.0|(13,[4],[1.0])|(13,[1],[1.0])|(410,[11],[1.0])|  (328,[2],[1.0])|\n",
      "|2008-04-18|Kolkata Knight Ri...|Royal Challengers...|BB McCullum|  P Kumar|   3|      0|  0.6|          3|             0|      0|          0|  222|         4.0|          1.0|       11.0|       2.0|(13,[4],[1.0])|(13,[1],[1.0])|(410,[11],[1.0])|  (328,[2],[1.0])|\n",
      "|2008-04-18|Kolkata Knight Ri...|Royal Challengers...|BB McCullum|   Z Khan|   3|      0|  1.1|          3|             0|      0|          0|  222|         4.0|          1.0|       11.0|       5.0|(13,[4],[1.0])|(13,[1],[1.0])|(410,[11],[1.0])|  (328,[5],[1.0])|\n",
      "|2008-04-18|Kolkata Knight Ri...|Royal Challengers...|BB McCullum|   Z Khan|   7|      0|  1.2|          7|             0|      4|          0|  222|         4.0|          1.0|       11.0|       5.0|(13,[4],[1.0])|(13,[1],[1.0])|(410,[11],[1.0])|  (328,[5],[1.0])|\n",
      "|2008-04-18|Kolkata Knight Ri...|Royal Challengers...|BB McCullum|   Z Khan|  11|      0|  1.3|         11|             0|      8|          0|  222|         4.0|          1.0|       11.0|       5.0|(13,[4],[1.0])|(13,[1],[1.0])|(410,[11],[1.0])|  (328,[5],[1.0])|\n",
      "|2008-04-18|Kolkata Knight Ri...|Royal Challengers...|BB McCullum|   Z Khan|  17|      0|  1.4|         17|             0|     14|          0|  222|         4.0|          1.0|       11.0|       5.0|(13,[4],[1.0])|(13,[1],[1.0])|(410,[11],[1.0])|  (328,[5],[1.0])|\n",
      "|2008-04-18|Kolkata Knight Ri...|Royal Challengers...|BB McCullum|   Z Khan|  21|      0|  1.5|         21|             0|     18|          0|  222|         4.0|          1.0|       11.0|       5.0|(13,[4],[1.0])|(13,[1],[1.0])|(410,[11],[1.0])|  (328,[5],[1.0])|\n",
      "|2008-04-18|Kolkata Knight Ri...|Royal Challengers...|BB McCullum|   Z Khan|  21|      0|  1.6|         21|             0|     18|          0|  222|         4.0|          1.0|       11.0|       5.0|(13,[4],[1.0])|(13,[1],[1.0])|(410,[11],[1.0])|  (328,[5],[1.0])|\n",
      "|2008-04-18|Kolkata Knight Ri...|Royal Challengers...| SC Ganguly|  P Kumar|  21|      0|  2.1|         21|             0|     18|          0|  222|         4.0|          1.0|       34.0|       2.0|(13,[4],[1.0])|(13,[1],[1.0])|(410,[34],[1.0])|  (328,[2],[1.0])|\n",
      "|2008-04-18|Kolkata Knight Ri...|Royal Challengers...| SC Ganguly|  P Kumar|  21|      0|  2.2|         21|             0|     18|          0|  222|         4.0|          1.0|       34.0|       2.0|(13,[4],[1.0])|(13,[1],[1.0])|(410,[34],[1.0])|  (328,[2],[1.0])|\n",
      "|2008-04-18|Kolkata Knight Ri...|Royal Challengers...| SC Ganguly|  P Kumar|  22|      0|  2.3|         22|             0|     18|          0|  222|         4.0|          1.0|       34.0|       2.0|(13,[4],[1.0])|(13,[1],[1.0])|(410,[34],[1.0])|  (328,[2],[1.0])|\n",
      "|2008-04-18|Kolkata Knight Ri...|Royal Challengers...|BB McCullum|  P Kumar|  26|      0|  2.4|         26|             0|     22|          0|  222|         4.0|          1.0|       11.0|       2.0|(13,[4],[1.0])|(13,[1],[1.0])|(410,[11],[1.0])|  (328,[2],[1.0])|\n",
      "|2008-04-18|Kolkata Knight Ri...|Royal Challengers...|BB McCullum|  P Kumar|  27|      0|  2.5|         27|             0|     23|          0|  222|         4.0|          1.0|       11.0|       2.0|(13,[4],[1.0])|(13,[1],[1.0])|(410,[11],[1.0])|  (328,[2],[1.0])|\n",
      "|2008-04-18|Kolkata Knight Ri...|Royal Challengers...| SC Ganguly|  P Kumar|  27|      0|  2.6|         27|             0|     23|          0|  222|         4.0|          1.0|       34.0|       2.0|(13,[4],[1.0])|(13,[1],[1.0])|(410,[34],[1.0])|  (328,[2],[1.0])|\n",
      "|2008-04-18|Kolkata Knight Ri...|Royal Challengers...|BB McCullum|AA Noffke|  32|      0|  3.0|         32|             0|     23|          0|  222|         4.0|          1.0|       11.0|     269.0|(13,[4],[1.0])|(13,[1],[1.0])|(410,[11],[1.0])|(328,[269],[1.0])|\n",
      "+----------+--------------------+--------------------+-----------+---------+----+-------+-----+-----------+--------------+-------+-----------+-----+------------+-------------+-----------+----------+--------------+--------------+----------------+-----------------+\n",
      "only showing top 20 rows\n",
      "\n"
     ]
    }
   ],
   "source": [
    "my_data.show()"
   ]
  },
  {
   "cell_type": "code",
   "execution_count": 22,
   "id": "PCW56uNZiKBM",
   "metadata": {
    "id": "PCW56uNZiKBM",
    "scrolled": false
   },
   "outputs": [
    {
     "name": "stdout",
     "output_type": "stream",
     "text": [
      "+----------+--------------------+--------------------+-----------+-------+----+-------+-----+-----------+--------------+-------+-----------+-----+------------+-------------+-----------+----------+--------------+--------------+----------------+---------------+\n",
      "|      date|            bat_team|           bowl_team|    batsman| bowler|runs|wickets|overs|runs_last_5|wickets_last_5|striker|non-striker|total|bat_team_new|bowl_team_new|batsman_new|bowler_new|   batteam_ohe|  bowlteam_ohe|     batsman_ohe|     bowler_ohe|\n",
      "+----------+--------------------+--------------------+-----------+-------+----+-------+-----+-----------+--------------+-------+-----------+-----+------------+-------------+-----------+----------+--------------+--------------+----------------+---------------+\n",
      "|2008-04-18|Kolkata Knight Ri...|Royal Challengers...| SC Ganguly|P Kumar|   1|      0|  0.1|          1|             0|      0|          0|  222|         4.0|          1.0|       34.0|       2.0|(13,[4],[1.0])|(13,[1],[1.0])|(410,[34],[1.0])|(328,[2],[1.0])|\n",
      "|2008-04-18|Kolkata Knight Ri...|Royal Challengers...|BB McCullum|P Kumar|   1|      0|  0.2|          1|             0|      0|          0|  222|         4.0|          1.0|       11.0|       2.0|(13,[4],[1.0])|(13,[1],[1.0])|(410,[11],[1.0])|(328,[2],[1.0])|\n",
      "|2008-04-18|Kolkata Knight Ri...|Royal Challengers...|BB McCullum|P Kumar|   2|      0|  0.2|          2|             0|      0|          0|  222|         4.0|          1.0|       11.0|       2.0|(13,[4],[1.0])|(13,[1],[1.0])|(410,[11],[1.0])|(328,[2],[1.0])|\n",
      "|2008-04-18|Kolkata Knight Ri...|Royal Challengers...|BB McCullum|P Kumar|   2|      0|  0.3|          2|             0|      0|          0|  222|         4.0|          1.0|       11.0|       2.0|(13,[4],[1.0])|(13,[1],[1.0])|(410,[11],[1.0])|(328,[2],[1.0])|\n",
      "|2008-04-18|Kolkata Knight Ri...|Royal Challengers...|BB McCullum|P Kumar|   2|      0|  0.4|          2|             0|      0|          0|  222|         4.0|          1.0|       11.0|       2.0|(13,[4],[1.0])|(13,[1],[1.0])|(410,[11],[1.0])|(328,[2],[1.0])|\n",
      "+----------+--------------------+--------------------+-----------+-------+----+-------+-----+-----------+--------------+-------+-----------+-----+------------+-------------+-----------+----------+--------------+--------------+----------------+---------------+\n",
      "only showing top 5 rows\n",
      "\n"
     ]
    }
   ],
   "source": [
    "my_data.show(5)"
   ]
  },
  {
   "cell_type": "code",
   "execution_count": 23,
   "id": "eheJTk4FiJ-H",
   "metadata": {
    "id": "eheJTk4FiJ-H",
    "scrolled": false
   },
   "outputs": [
    {
     "data": {
      "text/plain": [
       "['date',\n",
       " 'runs',\n",
       " 'wickets',\n",
       " 'overs',\n",
       " 'runs_last_5',\n",
       " 'wickets_last_5',\n",
       " 'striker',\n",
       " 'non-striker',\n",
       " 'total',\n",
       " 'bat_team_new',\n",
       " 'bowl_team_new',\n",
       " 'batsman_new',\n",
       " 'bowler_new']"
      ]
     },
     "execution_count": 23,
     "metadata": {},
     "output_type": "execute_result"
    }
   ],
   "source": [
    "# drop the columns that are not required\n",
    "my_data = my_data.drop(*['bat_team','bowl_team','batsman','bowler','batteam_ohe','bowlteam_ohe','batsman_ohe','bowler_ohe'])\n",
    "my_data.columns"
   ]
  },
  {
   "cell_type": "code",
   "execution_count": 24,
   "id": "GjTQ0Wn4iJ7n",
   "metadata": {
    "id": "GjTQ0Wn4iJ7n",
    "scrolled": false
   },
   "outputs": [
    {
     "name": "stdout",
     "output_type": "stream",
     "text": [
      "+----------+----+-------+-----+-----------+--------------+-------+-----------+-----+------------+-------------+-----------+----------+\n",
      "|      date|runs|wickets|overs|runs_last_5|wickets_last_5|striker|non-striker|total|bat_team_new|bowl_team_new|batsman_new|bowler_new|\n",
      "+----------+----+-------+-----+-----------+--------------+-------+-----------+-----+------------+-------------+-----------+----------+\n",
      "|2008-04-18|   1|      0|  0.1|          1|             0|      0|          0|  222|         4.0|          1.0|       34.0|       2.0|\n",
      "|2008-04-18|   1|      0|  0.2|          1|             0|      0|          0|  222|         4.0|          1.0|       11.0|       2.0|\n",
      "|2008-04-18|   2|      0|  0.2|          2|             0|      0|          0|  222|         4.0|          1.0|       11.0|       2.0|\n",
      "|2008-04-18|   2|      0|  0.3|          2|             0|      0|          0|  222|         4.0|          1.0|       11.0|       2.0|\n",
      "|2008-04-18|   2|      0|  0.4|          2|             0|      0|          0|  222|         4.0|          1.0|       11.0|       2.0|\n",
      "+----------+----+-------+-----+-----------+--------------+-------+-----------+-----+------------+-------------+-----------+----------+\n",
      "only showing top 5 rows\n",
      "\n"
     ]
    }
   ],
   "source": [
    "my_data.show(5)"
   ]
  },
  {
   "cell_type": "code",
   "execution_count": 25,
   "id": "APvn6MP3iJ1H",
   "metadata": {
    "id": "APvn6MP3iJ1H",
    "scrolled": true
   },
   "outputs": [
    {
     "data": {
      "text/plain": [
       "[('date', 'string'),\n",
       " ('runs', 'int'),\n",
       " ('wickets', 'int'),\n",
       " ('overs', 'double'),\n",
       " ('runs_last_5', 'int'),\n",
       " ('wickets_last_5', 'int'),\n",
       " ('striker', 'int'),\n",
       " ('non-striker', 'int'),\n",
       " ('total', 'int'),\n",
       " ('bat_team_new', 'double'),\n",
       " ('bowl_team_new', 'double'),\n",
       " ('batsman_new', 'double'),\n",
       " ('bowler_new', 'double')]"
      ]
     },
     "execution_count": 25,
     "metadata": {},
     "output_type": "execute_result"
    }
   ],
   "source": [
    "my_data.dtypes"
   ]
  },
  {
   "cell_type": "code",
   "execution_count": 26,
   "id": "b6077a38",
   "metadata": {},
   "outputs": [
    {
     "data": {
      "text/plain": [
       "[('date', 'date'),\n",
       " ('runs', 'int'),\n",
       " ('wickets', 'int'),\n",
       " ('overs', 'double'),\n",
       " ('runs_last_5', 'int'),\n",
       " ('wickets_last_5', 'int'),\n",
       " ('striker', 'int'),\n",
       " ('non-striker', 'int'),\n",
       " ('total', 'int'),\n",
       " ('bat_team_new', 'double'),\n",
       " ('bowl_team_new', 'double'),\n",
       " ('batsman_new', 'double'),\n",
       " ('bowler_new', 'double')]"
      ]
     },
     "execution_count": 26,
     "metadata": {},
     "output_type": "execute_result"
    }
   ],
   "source": [
    "from pyspark.sql.functions import to_date\n",
    "my_data.withColumn('date',to_date(my_data.date, 'dd-MM-yyyy')).dtypes"
   ]
  },
  {
   "cell_type": "code",
   "execution_count": 27,
   "id": "dce61f17",
   "metadata": {},
   "outputs": [],
   "source": [
    "from pyspark.sql.functions import split\n",
    "new=pyspark.sql.functions.split(my_data['date'], '-')"
   ]
  },
  {
   "cell_type": "code",
   "execution_count": 28,
   "id": "4c8b4fe2",
   "metadata": {},
   "outputs": [],
   "source": [
    "my_data=my_data.withColumn('year',new.getItem(0))\n",
    "my_data=my_data.withColumn('month',new.getItem(1))\n",
    "my_data=my_data.withColumn('day',new.getItem(2))\n"
   ]
  },
  {
   "cell_type": "code",
   "execution_count": 29,
   "id": "f2c9af8e",
   "metadata": {},
   "outputs": [
    {
     "data": {
      "text/plain": [
       "[('date', 'string'),\n",
       " ('runs', 'int'),\n",
       " ('wickets', 'int'),\n",
       " ('overs', 'double'),\n",
       " ('runs_last_5', 'int'),\n",
       " ('wickets_last_5', 'int'),\n",
       " ('striker', 'int'),\n",
       " ('non-striker', 'int'),\n",
       " ('total', 'int'),\n",
       " ('bat_team_new', 'double'),\n",
       " ('bowl_team_new', 'double'),\n",
       " ('batsman_new', 'double'),\n",
       " ('bowler_new', 'double'),\n",
       " ('year', 'string'),\n",
       " ('month', 'string'),\n",
       " ('day', 'string')]"
      ]
     },
     "execution_count": 29,
     "metadata": {},
     "output_type": "execute_result"
    }
   ],
   "source": [
    "my_data.dtypes"
   ]
  },
  {
   "cell_type": "code",
   "execution_count": 30,
   "id": "2c0d78e4",
   "metadata": {},
   "outputs": [
    {
     "data": {
      "text/plain": [
       "pyspark.sql.dataframe.DataFrame"
      ]
     },
     "execution_count": 30,
     "metadata": {},
     "output_type": "execute_result"
    }
   ],
   "source": [
    "type(my_data)"
   ]
  },
  {
   "cell_type": "code",
   "execution_count": 31,
   "id": "896ea2e8",
   "metadata": {},
   "outputs": [],
   "source": [
    "from pyspark.sql.types import IntegerType,BooleanType,DateType\n",
    "my_data=my_data.withColumn('day',my_data['day'].cast(IntegerType()))"
   ]
  },
  {
   "cell_type": "code",
   "execution_count": 32,
   "id": "a5d0d53a",
   "metadata": {},
   "outputs": [],
   "source": [
    "my_data=my_data.withColumn('year',my_data['year'].cast(IntegerType()))"
   ]
  },
  {
   "cell_type": "code",
   "execution_count": 33,
   "id": "65b3cb30",
   "metadata": {},
   "outputs": [],
   "source": [
    "my_data=my_data.withColumn('month',my_data['month'].cast(IntegerType()))"
   ]
  },
  {
   "cell_type": "code",
   "execution_count": 34,
   "id": "733325ea",
   "metadata": {},
   "outputs": [
    {
     "data": {
      "text/plain": [
       "[('date', 'string'),\n",
       " ('runs', 'int'),\n",
       " ('wickets', 'int'),\n",
       " ('overs', 'double'),\n",
       " ('runs_last_5', 'int'),\n",
       " ('wickets_last_5', 'int'),\n",
       " ('striker', 'int'),\n",
       " ('non-striker', 'int'),\n",
       " ('total', 'int'),\n",
       " ('bat_team_new', 'double'),\n",
       " ('bowl_team_new', 'double'),\n",
       " ('batsman_new', 'double'),\n",
       " ('bowler_new', 'double'),\n",
       " ('year', 'int'),\n",
       " ('month', 'int'),\n",
       " ('day', 'int')]"
      ]
     },
     "execution_count": 34,
     "metadata": {},
     "output_type": "execute_result"
    }
   ],
   "source": [
    "my_data.dtypes"
   ]
  },
  {
   "cell_type": "code",
   "execution_count": 35,
   "id": "5de64ae9",
   "metadata": {},
   "outputs": [
    {
     "name": "stdout",
     "output_type": "stream",
     "text": [
      "+---+-----+----+\n",
      "|day|month|year|\n",
      "+---+-----+----+\n",
      "| 18|    4|2008|\n",
      "| 18|    4|2008|\n",
      "| 18|    4|2008|\n",
      "| 18|    4|2008|\n",
      "| 18|    4|2008|\n",
      "+---+-----+----+\n",
      "only showing top 5 rows\n",
      "\n"
     ]
    }
   ],
   "source": [
    "my_data.select('day','month','year').show(5)"
   ]
  },
  {
   "cell_type": "code",
   "execution_count": 36,
   "id": "b41f34ac",
   "metadata": {},
   "outputs": [
    {
     "name": "stdout",
     "output_type": "stream",
     "text": [
      "+----------+----+-------+-----+-----------+--------------+-------+-----------+-----+------------+-------------+-----------+----------+----+-----+---+\n",
      "|      date|runs|wickets|overs|runs_last_5|wickets_last_5|striker|non-striker|total|bat_team_new|bowl_team_new|batsman_new|bowler_new|year|month|day|\n",
      "+----------+----+-------+-----+-----------+--------------+-------+-----------+-----+------------+-------------+-----------+----------+----+-----+---+\n",
      "|2008-04-18|   1|      0|  0.1|          1|             0|      0|          0|  222|         4.0|          1.0|       34.0|       2.0|2008|    4| 18|\n",
      "|2008-04-18|   1|      0|  0.2|          1|             0|      0|          0|  222|         4.0|          1.0|       11.0|       2.0|2008|    4| 18|\n",
      "|2008-04-18|   2|      0|  0.2|          2|             0|      0|          0|  222|         4.0|          1.0|       11.0|       2.0|2008|    4| 18|\n",
      "|2008-04-18|   2|      0|  0.3|          2|             0|      0|          0|  222|         4.0|          1.0|       11.0|       2.0|2008|    4| 18|\n",
      "|2008-04-18|   2|      0|  0.4|          2|             0|      0|          0|  222|         4.0|          1.0|       11.0|       2.0|2008|    4| 18|\n",
      "+----------+----+-------+-----+-----------+--------------+-------+-----------+-----+------------+-------------+-----------+----------+----+-----+---+\n",
      "only showing top 5 rows\n",
      "\n"
     ]
    }
   ],
   "source": [
    "my_data.show(5)"
   ]
  },
  {
   "cell_type": "code",
   "execution_count": 37,
   "id": "95bd0cbd",
   "metadata": {},
   "outputs": [],
   "source": [
    "drop=['date','total']"
   ]
  },
  {
   "cell_type": "code",
   "execution_count": 38,
   "id": "3e73999b",
   "metadata": {},
   "outputs": [],
   "source": [
    "x=my_data.drop(*drop)"
   ]
  },
  {
   "cell_type": "code",
   "execution_count": null,
   "id": "063b213a",
   "metadata": {},
   "outputs": [],
   "source": []
  },
  {
   "cell_type": "code",
   "execution_count": 39,
   "id": "2041917f",
   "metadata": {},
   "outputs": [
    {
     "data": {
      "text/plain": [
       "pyspark.sql.dataframe.DataFrame"
      ]
     },
     "execution_count": 39,
     "metadata": {},
     "output_type": "execute_result"
    }
   ],
   "source": [
    "type(my_data)"
   ]
  },
  {
   "cell_type": "code",
   "execution_count": 40,
   "id": "21651fd1",
   "metadata": {},
   "outputs": [
    {
     "name": "stdout",
     "output_type": "stream",
     "text": [
      "+----+-------+-----+-----------+--------------+-------+-----------+------------+-------------+-----------+----------+----+-----+---+\n",
      "|runs|wickets|overs|runs_last_5|wickets_last_5|striker|non-striker|bat_team_new|bowl_team_new|batsman_new|bowler_new|year|month|day|\n",
      "+----+-------+-----+-----------+--------------+-------+-----------+------------+-------------+-----------+----------+----+-----+---+\n",
      "|   1|      0|  0.1|          1|             0|      0|          0|         4.0|          1.0|       34.0|       2.0|2008|    4| 18|\n",
      "|   1|      0|  0.2|          1|             0|      0|          0|         4.0|          1.0|       11.0|       2.0|2008|    4| 18|\n",
      "|   2|      0|  0.2|          2|             0|      0|          0|         4.0|          1.0|       11.0|       2.0|2008|    4| 18|\n",
      "|   2|      0|  0.3|          2|             0|      0|          0|         4.0|          1.0|       11.0|       2.0|2008|    4| 18|\n",
      "|   2|      0|  0.4|          2|             0|      0|          0|         4.0|          1.0|       11.0|       2.0|2008|    4| 18|\n",
      "|   2|      0|  0.5|          2|             0|      0|          0|         4.0|          1.0|       11.0|       2.0|2008|    4| 18|\n",
      "|   3|      0|  0.6|          3|             0|      0|          0|         4.0|          1.0|       11.0|       2.0|2008|    4| 18|\n",
      "|   3|      0|  1.1|          3|             0|      0|          0|         4.0|          1.0|       11.0|       5.0|2008|    4| 18|\n",
      "|   7|      0|  1.2|          7|             0|      4|          0|         4.0|          1.0|       11.0|       5.0|2008|    4| 18|\n",
      "|  11|      0|  1.3|         11|             0|      8|          0|         4.0|          1.0|       11.0|       5.0|2008|    4| 18|\n",
      "|  17|      0|  1.4|         17|             0|     14|          0|         4.0|          1.0|       11.0|       5.0|2008|    4| 18|\n",
      "|  21|      0|  1.5|         21|             0|     18|          0|         4.0|          1.0|       11.0|       5.0|2008|    4| 18|\n",
      "|  21|      0|  1.6|         21|             0|     18|          0|         4.0|          1.0|       11.0|       5.0|2008|    4| 18|\n",
      "|  21|      0|  2.1|         21|             0|     18|          0|         4.0|          1.0|       34.0|       2.0|2008|    4| 18|\n",
      "|  21|      0|  2.2|         21|             0|     18|          0|         4.0|          1.0|       34.0|       2.0|2008|    4| 18|\n",
      "|  22|      0|  2.3|         22|             0|     18|          0|         4.0|          1.0|       34.0|       2.0|2008|    4| 18|\n",
      "|  26|      0|  2.4|         26|             0|     22|          0|         4.0|          1.0|       11.0|       2.0|2008|    4| 18|\n",
      "|  27|      0|  2.5|         27|             0|     23|          0|         4.0|          1.0|       11.0|       2.0|2008|    4| 18|\n",
      "|  27|      0|  2.6|         27|             0|     23|          0|         4.0|          1.0|       34.0|       2.0|2008|    4| 18|\n",
      "|  32|      0|  3.0|         32|             0|     23|          0|         4.0|          1.0|       11.0|     269.0|2008|    4| 18|\n",
      "+----+-------+-----+-----------+--------------+-------+-----------+------------+-------------+-----------+----------+----+-----+---+\n",
      "only showing top 20 rows\n",
      "\n"
     ]
    }
   ],
   "source": [
    "x.show()"
   ]
  },
  {
   "cell_type": "code",
   "execution_count": 41,
   "id": "6bd9f139",
   "metadata": {
    "id": "6bd9f139",
    "scrolled": false
   },
   "outputs": [],
   "source": [
    "from pyspark.ml.linalg import Vectors\n",
    "from pyspark.ml.feature import VectorAssembler\n",
    "assembler = VectorAssembler(inputCols=x.columns,outputCol=\"features\")"
   ]
  },
  {
   "cell_type": "code",
   "execution_count": 42,
   "id": "2858798c",
   "metadata": {
    "id": "2858798c",
    "scrolled": false
   },
   "outputs": [],
   "source": [
    "output = assembler.transform(my_data)"
   ]
  },
  {
   "cell_type": "code",
   "execution_count": 43,
   "id": "e3179fe1",
   "metadata": {
    "id": "e3179fe1",
    "scrolled": false
   },
   "outputs": [],
   "source": [
    "final_data = output.select(\"features\",'total')\n",
    "train_data,test_data = final_data.randomSplit([0.7,0.3])"
   ]
  },
  {
   "cell_type": "code",
   "execution_count": 44,
   "id": "d3c4df33",
   "metadata": {
    "colab": {
     "base_uri": "https://localhost:8080/"
    },
    "id": "d3c4df33",
    "outputId": "7d9a9722-450b-4138-d064-fefd2a4165fc",
    "scrolled": false
   },
   "outputs": [
    {
     "name": "stdout",
     "output_type": "stream",
     "text": [
      "+--------------------+-----+\n",
      "|            features|total|\n",
      "+--------------------+-----+\n",
      "|[1.0,0.0,0.1,1.0,...|  222|\n",
      "|[1.0,0.0,0.2,1.0,...|  222|\n",
      "|[2.0,0.0,0.2,2.0,...|  222|\n",
      "|[2.0,0.0,0.3,2.0,...|  222|\n",
      "|[2.0,0.0,0.4,2.0,...|  222|\n",
      "|[2.0,0.0,0.5,2.0,...|  222|\n",
      "|[3.0,0.0,0.6,3.0,...|  222|\n",
      "|[3.0,0.0,1.1,3.0,...|  222|\n",
      "|[7.0,0.0,1.2,7.0,...|  222|\n",
      "|[11.0,0.0,1.3,11....|  222|\n",
      "|[17.0,0.0,1.4,17....|  222|\n",
      "|[21.0,0.0,1.5,21....|  222|\n",
      "|[21.0,0.0,1.6,21....|  222|\n",
      "|[21.0,0.0,2.1,21....|  222|\n",
      "|[21.0,0.0,2.2,21....|  222|\n",
      "|[22.0,0.0,2.3,22....|  222|\n",
      "|[26.0,0.0,2.4,26....|  222|\n",
      "|[27.0,0.0,2.5,27....|  222|\n",
      "|[27.0,0.0,2.6,27....|  222|\n",
      "|[32.0,0.0,3.0,32....|  222|\n",
      "+--------------------+-----+\n",
      "only showing top 20 rows\n",
      "\n"
     ]
    }
   ],
   "source": [
    "final_data.show()"
   ]
  },
  {
   "cell_type": "code",
   "execution_count": 45,
   "id": "ef786a35",
   "metadata": {
    "id": "ef786a35",
    "scrolled": false
   },
   "outputs": [],
   "source": [
    "from pyspark.ml.regression import LinearRegression\n",
    "# Create a Linear Regression Model object\n",
    "lr = LinearRegression(labelCol='total')\n",
    "# Fit the model to the data and call this model lrModel\n",
    "lrModel = lr.fit(train_data)"
   ]
  },
  {
   "cell_type": "code",
   "execution_count": 46,
   "id": "3e03da1a",
   "metadata": {
    "id": "3e03da1a",
    "scrolled": false
   },
   "outputs": [],
   "source": [
    "pred=lrModel.transform(test_data)"
   ]
  },
  {
   "cell_type": "code",
   "execution_count": 47,
   "id": "9df4f3b5",
   "metadata": {
    "colab": {
     "base_uri": "https://localhost:8080/"
    },
    "id": "9df4f3b5",
    "outputId": "db58e115-d83a-4211-cb91-a4fcdbbcef92",
    "scrolled": false
   },
   "outputs": [
    {
     "name": "stdout",
     "output_type": "stream",
     "text": [
      "+--------------------+-----+------------------+\n",
      "|            features|total|        prediction|\n",
      "+--------------------+-----+------------------+\n",
      "|(14,[0,2,3,9,10,1...|   92|160.67903652949076|\n",
      "|(14,[0,2,3,9,10,1...|   92| 156.5295401358012|\n",
      "|(14,[0,3,7,9,10,1...|  112|164.52179462512663|\n",
      "|(14,[0,3,9,10,11,...|  218|166.42335357466663|\n",
      "|(14,[2,7,8,9,10,1...|  182|159.22015649784043|\n",
      "|(14,[2,7,8,9,10,1...|  119| 162.3520500774648|\n",
      "|(14,[2,7,8,9,10,1...|  153|162.71798183967053|\n",
      "|(14,[2,7,8,9,10,1...|  119| 161.1995771976715|\n",
      "|(14,[2,7,8,9,10,1...|  112|162.77225644159557|\n",
      "|(14,[2,7,8,9,10,1...|  129|160.61785748228476|\n",
      "|(14,[2,7,8,9,10,1...|  179| 160.5818500388075|\n",
      "|(14,[2,7,8,9,10,1...|  156|157.89176784543656|\n",
      "|(14,[2,7,8,9,10,1...|  164|163.47236272420173|\n",
      "|(14,[2,7,8,9,10,1...|  116| 159.2336907896131|\n",
      "|(14,[2,7,8,9,10,1...|  155|161.58961293655852|\n",
      "|(14,[2,7,8,9,10,1...|  164|161.56204738916063|\n",
      "|(14,[2,7,8,9,10,1...|  168|161.50320307170136|\n",
      "|(14,[2,7,8,9,10,1...|  126|160.09478394064467|\n",
      "|(14,[2,7,8,9,10,1...|  161|162.37043293968736|\n",
      "|(14,[2,7,8,9,10,1...|  205|160.41865886698224|\n",
      "+--------------------+-----+------------------+\n",
      "only showing top 20 rows\n",
      "\n"
     ]
    }
   ],
   "source": [
    "pred.show()"
   ]
  },
  {
   "cell_type": "code",
   "execution_count": 48,
   "id": "71046454",
   "metadata": {},
   "outputs": [
    {
     "name": "stdout",
     "output_type": "stream",
     "text": [
      "R2:0.5107816443976604\n"
     ]
    }
   ],
   "source": [
    "test_results = lrModel.evaluate(test_data)\n",
    "print(\"R2:{}\".format(test_results.r2))  "
   ]
  },
  {
   "cell_type": "code",
   "execution_count": 50,
   "id": "cf65058a",
   "metadata": {},
   "outputs": [],
   "source": [
    "# GBTRegressor\n",
    "from pyspark.ml.regression import GBTRegressor\n",
    "gbt = GBTRegressor(featuresCol='features',labelCol=\"total\")\n",
    "gbtModel = lr.fit(train_data)"
   ]
  },
  {
   "cell_type": "code",
   "execution_count": 51,
   "id": "b480b84b",
   "metadata": {},
   "outputs": [],
   "source": [
    "pred2=gbtModel.transform(test_data)"
   ]
  },
  {
   "cell_type": "code",
   "execution_count": 52,
   "id": "2dd31ca4",
   "metadata": {},
   "outputs": [
    {
     "name": "stdout",
     "output_type": "stream",
     "text": [
      "+--------------------+-----+------------------+\n",
      "|            features|total|        prediction|\n",
      "+--------------------+-----+------------------+\n",
      "|(14,[0,2,3,9,10,1...|   92|160.67903652949076|\n",
      "|(14,[0,2,3,9,10,1...|   92| 156.5295401358012|\n",
      "|(14,[0,3,7,9,10,1...|  112|164.52179462512663|\n",
      "|(14,[0,3,9,10,11,...|  218|166.42335357466663|\n",
      "|(14,[2,7,8,9,10,1...|  182|159.22015649784043|\n",
      "|(14,[2,7,8,9,10,1...|  119| 162.3520500774648|\n",
      "|(14,[2,7,8,9,10,1...|  153|162.71798183967053|\n",
      "|(14,[2,7,8,9,10,1...|  119| 161.1995771976715|\n",
      "|(14,[2,7,8,9,10,1...|  112|162.77225644159557|\n",
      "|(14,[2,7,8,9,10,1...|  129|160.61785748228476|\n",
      "|(14,[2,7,8,9,10,1...|  179| 160.5818500388075|\n",
      "|(14,[2,7,8,9,10,1...|  156|157.89176784543656|\n",
      "|(14,[2,7,8,9,10,1...|  164|163.47236272420173|\n",
      "|(14,[2,7,8,9,10,1...|  116| 159.2336907896131|\n",
      "|(14,[2,7,8,9,10,1...|  155|161.58961293655852|\n",
      "|(14,[2,7,8,9,10,1...|  164|161.56204738916063|\n",
      "|(14,[2,7,8,9,10,1...|  168|161.50320307170136|\n",
      "|(14,[2,7,8,9,10,1...|  126|160.09478394064467|\n",
      "|(14,[2,7,8,9,10,1...|  161|162.37043293968736|\n",
      "|(14,[2,7,8,9,10,1...|  205|160.41865886698224|\n",
      "+--------------------+-----+------------------+\n",
      "only showing top 20 rows\n",
      "\n"
     ]
    }
   ],
   "source": [
    "pred2.show()"
   ]
  },
  {
   "cell_type": "code",
   "execution_count": 53,
   "id": "0c5bc785",
   "metadata": {},
   "outputs": [
    {
     "name": "stdout",
     "output_type": "stream",
     "text": [
      "R2:0.5107816443976606\n"
     ]
    }
   ],
   "source": [
    "test_results2 = gbtModel.evaluate(test_data)\n",
    "print(\"R2:{}\".format(test_results2.r2))  "
   ]
  }
 ],
 "metadata": {
  "colab": {
   "collapsed_sections": [],
   "name": "Pyspark.ipynb",
   "provenance": []
  },
  "kernelspec": {
   "display_name": "Python 3 (ipykernel)",
   "language": "python",
   "name": "python3"
  },
  "language_info": {
   "codemirror_mode": {
    "name": "ipython",
    "version": 3
   },
   "file_extension": ".py",
   "mimetype": "text/x-python",
   "name": "python",
   "nbconvert_exporter": "python",
   "pygments_lexer": "ipython3",
   "version": "3.9.7"
  }
 },
 "nbformat": 4,
 "nbformat_minor": 5
}
